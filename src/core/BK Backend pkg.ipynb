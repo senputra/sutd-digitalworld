{
 "cells": [
  {
   "cell_type": "code",
   "execution_count": null,
   "metadata": {},
   "outputs": [],
   "source": [
    "import firebase_admin\n",
    "from firebase_admin import credentials\n",
    "'''\n",
    "structure:\n",
    "        machine \n",
    "            dryer\n",
    "                ID: block/number\n",
    "                        \n",
    "            washer\n",
    "       ,
    "                    \n",
    "'''\n",
    "class booking:\n",
    "    def __init__(self):\n",
    "        cred = credentials.Certificate(\"serviceAccountKey.json\")\n",
    "        firebase_admin.initialize_app(cred) \n",
    "        db = firestore.client()\n",
    "    \n",
    "    def add_machine(self, name, ID ):\n",
    "        db.\n",
    "        return \n",
    "    "
   ]
  }
 ],
 "metadata": {
  "kernelspec": {
   "display_name": "Python 3",
   "language": "python",
   "name": "python3"
  },
  "language_info": {
   "codemirror_mode": {
    "name": "ipython",
    "version": 3
   },
   "file_extension": ".py",
   "mimetype": "text/x-python",
   "name": "python",
   "nbconvert_exporter": "python",
   "pygments_lexer": "ipython3",
   "version": "3.7.3"
  }
 },
 "nbformat": 4,
 "nbformat_minor": 2
}
