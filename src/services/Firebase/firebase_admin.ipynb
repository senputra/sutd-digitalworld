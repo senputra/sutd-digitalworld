{
 "cells": [
  {
   "cell_type": "code",
   "execution_count": 46,
   "metadata": {},
   "outputs": [
    {
     "data": {
      "text/plain": [
       "update_time {\n",
       "  seconds: 1582148984\n",
       "  nanos: 317641000\n",
       "}"
      ]
     },
     "execution_count": 46,
     "metadata": {},
     "output_type": "execute_result"
    }
   ],
   "source": [
    "import firebase_admin\n",
    "from firebase_admin import credentials\n",
    "from firebase_admin import firestore\n",
    "from firebase_admin import db\n",
    "from datetime import datetime\n",
    "from datetime import timedelta\n",
    "\n",
    "cred = credentials.Certificate(\"serviceAccountKey.json\")\n",
    "#firebase_admin.initialize_app(cred)\n",
    "\n",
    "db = firestore.client()\n",
    "\n",
    "\n",
    "\n",
    "washer_ref = db.collection(u'machine').document(u'washer')\n",
    "\n",
    "washer_no = washer_ref.collection(u'identity').document(u'01')\n",
    "washer_no.set({\n",
    "    u'Status': u'input',\n",
    "    u'Time': firestore.SERVER_TIMESTAMP,\n",
    "    u'EndTime': datetime.now() + timedelta(seconds=2220)\n",
    "})\n",
    "\n",
    "\n",
    "\n",
    "\n",
    "\n",
    "dryer_ref = db.collection(u'machine').document(u'dryer')\n",
    "\n",
    "\n",
    "dryer_no = dryer_ref.collection(u'identity').document(u'01')\n",
    "dryer_no.set({\n",
    "    u'Status': u'input',\n",
    "    u'Time': firestore.SERVER_TIMESTAMP,\n",
    "    u'EndTime': datetime.now() + timedelta(seconds=1800)\n",
    "})\n"
   ]
  },
  {
   "cell_type": "code",
   "execution_count": 47,
   "metadata": {},
   "outputs": [
    {
     "data": {
      "text/plain": [
       "update_time {\n",
       "  seconds: 1582148987\n",
       "  nanos: 865748000\n",
       "}"
      ]
     },
     "execution_count": 47,
     "metadata": {},
     "output_type": "execute_result"
    }
   ],
   "source": [
    "washer_no.update({\n",
    "    u'Status': u'used'\n",
    "})\n",
    "\n",
    "dryer_no.update({\n",
    "    u'Status': u'not used'\n",
    "})"
   ]
  },
  {
   "cell_type": "code",
   "execution_count": 52,
   "metadata": {},
   "outputs": [
    {
     "ename": "AttributeError",
     "evalue": "module 'firebase_admin.db' has no attribute 'order_by_key'",
     "output_type": "error",
     "traceback": [
      "\u001b[1;31m---------------------------------------------------------------------------\u001b[0m",
      "\u001b[1;31mAttributeError\u001b[0m                            Traceback (most recent call last)",
      "\u001b[1;32m<ipython-input-52-4af69480462a>\u001b[0m in \u001b[0;36m<module>\u001b[1;34m\u001b[0m\n\u001b[1;32m----> 1\u001b[1;33m \u001b[0mfirebase_admin\u001b[0m\u001b[1;33m.\u001b[0m\u001b[0mdb\u001b[0m\u001b[1;33m.\u001b[0m\u001b[0morder_by_key\u001b[0m\u001b[1;33m(\u001b[0m\u001b[1;34m'washer'\u001b[0m\u001b[1;33m)\u001b[0m\u001b[1;33m\u001b[0m\u001b[1;33m\u001b[0m\u001b[0m\n\u001b[0m",
      "\u001b[1;31mAttributeError\u001b[0m: module 'firebase_admin.db' has no attribute 'order_by_key'"
     ]
    }
   ],
   "source": [
    "firebase_admin.db.Query.order_by_key('washer')"
   ]
  },
  {
   "cell_type": "code",
   "execution_count": null,
   "metadata": {},
   "outputs": [],
   "source": []
  }
 ],
 "metadata": {
  "kernelspec": {
   "display_name": "Python 3",
   "language": "python",
   "name": "python3"
  },
  "language_info": {
   "codemirror_mode": {
    "name": "ipython",
    "version": 3
   },
   "file_extension": ".py",
   "mimetype": "text/x-python",
   "name": "python",
   "nbconvert_exporter": "python",
   "pygments_lexer": "ipython3",
   "version": "3.7.4"
  }
 },
 "nbformat": 4,
 "nbformat_minor": 4
}
