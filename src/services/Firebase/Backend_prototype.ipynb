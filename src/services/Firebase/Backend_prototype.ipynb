{
 "cells": [
  {
   "cell_type": "markdown",
   "metadata": {},
   "source": [
    "# Class Booking for backend\n"
   ]
  },
  {
   "cell_type": "code",
   "execution_count": null,
   "metadata": {},
   "outputs": [],
   "source": [
    "import firebase_admin\n",
    "import time\n",
    "import numpy as np\n",
    "from firebase_admin import credentials\n",
    "from firebase_admin import db\n",
    "\n",
    "'''\n",
    "structure:\n",
    "        machine \n",
    "            mac_ID: string #string format: Location_Type_Machine number\n",
    "                availability: boolean\n",
    "                datalog: dictionary = {'start_timestamp': , 'end_timestamp'}     \n",
    "                    \n",
    "'''\n",
    "class Booking:\n",
    "    __root = None\n",
    "    def __init__(self):\n",
    "        # Vectorizing all fucntions to perform action on multiple machines\n",
    "        self.manage_Machine = np.vectorize(self.__manage_Machine)\n",
    "        self.change_Availability = np.vectorize(self.__change_Availability)\n",
    "        # Establishing connection to firebase RT Database\n",
    "        \n",
    "        while type(self.__root) == type(None): #modify to use try catch instead\n",
    "            try:\n",
    "                cred = credentials.Certificate(\"serviceAccountKey.json\")\n",
    "                firebase_admin.initialize_app(cred, {\n",
    "                'databaseURL': 'https://dw-bk-1d.firebaseio.com'\n",
    "                })\n",
    "                self.__root = db.reference().child(\"Machine\")\n",
    "                print(type(self.__root))\n",
    "            except:\n",
    "                print(\"serviceAccountKey.json is not setup properly\")\n",
    "                time.sleep(0.5)\n",
    "                \n",
    "    # Splice a full ID into substrings: Location, Type and No_ID\n",
    "    def ID_splicer(self, full_ID):\n",
    "        if type(full_ID) == list:\n",
    "            Location= list()\n",
    "            Type = list()\n",
    "            ID = list()\n",
    "            for string in full_ID:\n",
    "                if type(string) != str:\n",
    "                    raise Exception(\"Invalid argument, please use a list of IDs with only strings\")\n",
    "                    break\n",
    "                else:\n",
    "                    temp = string.split('_')\n",
    "                    if len(temp) != 3:\n",
    "                        raise Exception(\"Invalid ID formot, your ID format should be: Location_Type_No.ID \")\n",
    "                    else:\n",
    "                        Location.append(temp[0])\n",
    "                        Type.append(temp[1])\n",
    "                        ID.append(temp[2])\n",
    "            Location = np.array(Location)\n",
    "            Type = np.array(Type)\n",
    "            ID = np.array(ID)\n",
    "            return Location,Type, ID\n",
    "        elif type(full_ID) == str:\n",
    "            Location, Type, ID = full_ID.split('_')\n",
    "            return Location, Type, ID\n",
    "\n",
    "    \n",
    "    # Retreiving existing machines from database            \n",
    "    def __getMachines(self):\n",
    "        machines = self.__root.order_by_key().get()\n",
    "        if machines != None:\n",
    "            machines = machines.keys()\n",
    "        return machines\n",
    "            \n",
    "    # Adding/removing a machine \n",
    "    def __manage_Machine(self, edit: str, Location: str, Type: str, no_ID: str ): \n",
    "        # Managing Queries: \n",
    "        existing_Machine = self.__getMachines()\n",
    "        mac_ID = Location + \"_\"  + Type + \"_\" + no_ID\n",
    "        if edit == \"del\" and existing_Machine != None:\n",
    "            # Deleting all machines with specified Type and Location\n",
    "            if Location != \"\" and Type != \"\" and no_ID == \"\":\n",
    "                for machine in existing_Machine:\n",
    "                    if machine.find(Location) != -1 and machine.find(Type) != -1:\n",
    "                        self.__root.child(machine).delete()\n",
    "                        \n",
    "            # Deleting all machines in specified Location\n",
    "            elif Location != \"\" and Type == \"\" and no_ID == \"\":\n",
    "                for machine in existing_Machine:\n",
    "                    if machine.find(Location) != -1 :\n",
    "                        self.__root.child(machine).delete()\n",
    "            # Deleting all mmachines belong to specified Type    \n",
    "            elif Location == \"\" and Type != \"\" and no_ID == \"\":\n",
    "                for machine in existing_Machine:\n",
    "                    if machine.find(Type) != -1:\n",
    "                        self.__root.child(machine).delete()\n",
    "                        \n",
    "            # Deleting the machine with the specified full ID of Location_Type_ID \n",
    "            elif mac_ID in existing_Machine:\n",
    "                self.__root.child(mac_ID).delete()\n",
    "                #if mac_ID not in existing_Machine:\n",
    "                #    print(\"deleted: \", mac_ID) # for debugging only\n",
    "                \n",
    "        elif edit == \"add\":\n",
    "            if existing_Machine == None:\n",
    "                    self.__root.child(mac_ID).child(\"availability\").set(False)\n",
    "                    self.__root.child(mac_ID).child(\"datalog\").set(\"\")\n",
    "            elif mac_ID not in existing_Machine and Location != \"\" and Type != \"\" and no_ID != \"\":\n",
    "                    self.__root.child(mac_ID).child(\"availability\").set(False)\n",
    "                    self.__root.child(mac_ID).child(\"datalog\").set(\"\")\n",
    "        else:\n",
    "            raise Exception(\"Invalid action. manage_Machine can only 'del' or 'add' machines \")\n",
    "    \n",
    "    # Change machine availability\n",
    "    def __change_Availability(self, Location: str, Type: str, no_ID: str , status: bool):\n",
    "        existing_Machine = self.__getMachines()\n",
    "        mac_ID = Location + \"_\"  + Type + \"_\" + no_ID\n",
    "\n",
    "        if status != False and status != True:\n",
    "            raise Exception(\"Invalid value for machine availability\")\n",
    "        \n",
    "        if existing_Machine != None:\n",
    "\n",
    "            # Change availability all machines with specified Type and Location\n",
    "            if Location != \"\" and Type != \"\" and no_ID == \"\":\n",
    "                for machine in existing_Machine:\n",
    "                    if machine.find(Location) != -1 and machine.find(Type) != -1:\n",
    "                        self.__root.child(machine).child(\"availability\").set(bool(status))\n",
    "            \n",
    "            # Change availability all machines with specified Location  \n",
    "            elif Location != \"\" and Type == \"\" and no_ID == \"\":\n",
    "                for machine in existing_Machine:\n",
    "                    if machine.find(Location) != -1 :\n",
    "                        self.__root.child(machine).child(\"availability\").set(bool(status))\n",
    "            \n",
    "            # Change availability all machines with specified Type\n",
    "            elif Location == \"\" and Type != \"\" and no_ID == \"\":\n",
    "                for machine in existing_Machine:\n",
    "                    if machine.find(Type) != -1:\n",
    "                        self.__root.child(machine).child(\"availability\").set(bool(status))\n",
    "            \n",
    "            # Change availability the machine with specified full ID of Location_Type_ID  \n",
    "            elif mac_ID in existing_Machine:\n",
    "                self.__root.child(mac_ID).child(\"availability\").set(bool(status))\n",
    "                \n",
    "            else:\n",
    "                raise Exception(\"Invalid ID. The specified machine ID does not exist\")\n",
    "        else:\n",
    "            raise Exception(\"Fail to retrieve machines from firebase\")"
   ]
  },
  {
   "cell_type": "markdown",
   "metadata": {},
   "source": [
    "# Warning!!! Only run this cell ONCE. If you fked up, restart kernel and clear outputs\n"
   ]
  },
  {
   "cell_type": "code",
   "execution_count": 2,
   "metadata": {},
   "outputs": [
    {
     "name": "stdout",
     "output_type": "stream",
     "text": [
      "<class 'firebase_admin.db.Reference'>\n"
     ]
    }
   ],
   "source": [
    "a = Booking()"
   ]
  },
  {
   "cell_type": "markdown",
   "metadata": {},
   "source": [
    "# Sample code for usage of methods in class Booking(). Please read the comment lines for instructions to use the methods"
   ]
  },
  {
   "cell_type": "code",
   "execution_count": 3,
   "metadata": {},
   "outputs": [
    {
     "name": "stdout",
     "output_type": "stream",
     "text": [
      "['Block57' 'Block57' 'Block57' 'Block55' 'Block55']\n",
      "['Dryer' 'Dryer' 'Dryer' 'Dryer' 'Washer']\n",
      "['01' '02' '03' '01' '01']\n"
     ]
    },
    {
     "data": {
      "text/plain": [
       "array([None, None, None, None, None], dtype=object)"
      ]
     },
     "execution_count": 3,
     "metadata": {},
     "output_type": "execute_result"
    }
   ],
   "source": [
    "# Machine ID list, format of each ID is: Location_Type_ID\n",
    "mac = [\"Block57_Dryer_01\", \"Block57_Dryer_02\", \"Block57_Dryer_03\", \"Block55_Dryer_01\", \"Block55_Washer_01\"]\n",
    "# Splice the full IDs in the above list into Location, Type and ID lists\n",
    "Loc, Type, ID = a.ID_splicer(mac)\n",
    "print(Loc)\n",
    "print(Type)\n",
    "print(ID)\n",
    "\n",
    "# Adding new machines\n",
    "a.manage_Machine(\"add\",Loc,Type, ID)"
   ]
  },
  {
   "cell_type": "markdown",
   "metadata": {},
   "source": [
    "# Debugging booking methods: U can pass in lists as arguments/parameters for all methods."
   ]
  },
  {
   "cell_type": "code",
   "execution_count": 4,
   "metadata": {},
   "outputs": [
    {
     "data": {
      "text/plain": [
       "array([None, None], dtype=object)"
      ]
     },
     "execution_count": 4,
     "metadata": {},
     "output_type": "execute_result"
    }
   ],
   "source": [
    "# Run one method code line AT A TIME, uncomment the method u WANT to run\n",
    "\n",
    "status = True # your status must be either True or False\n",
    "\n",
    "# Change availability status of all machines in the machine ID list \n",
    "#a.change_Availability(Loc, Type, ID, status)\n",
    "\n",
    "# Change availability status of all Washers in database\n",
    "#a.change_Availability(\"\", \"Dryer\", \"\", status)\n",
    "\n",
    "# Change availability status of all machines in Block57\n",
    "#a.change_Availability(\"Block57\", \"\", \"\", status)\n",
    "\n",
    "# Change availability status of all Dryers in Block 57\n",
    "#a.change_Availability(\"Block57\", \"Dryer\", \"\", status)\n",
    "\n",
    "# Change availability status of  01 and 03 in block 57\n",
    "dryer_57_ID = [\"01\",\"03\"]\n",
    "a.change_Availability(\"Block57\", \"Dryer\", dryer_57_ID, status)\n"
   ]
  },
  {
   "cell_type": "code",
   "execution_count": 5,
   "metadata": {},
   "outputs": [
    {
     "data": {
      "text/plain": [
       "array([None, None], dtype=object)"
      ]
     },
     "execution_count": 5,
     "metadata": {},
     "output_type": "execute_result"
    }
   ],
   "source": [
    "# Run one method code line AT A TIME, uncomment the method u WANT to run\n",
    "\n",
    "# Tip: After u have deleted successfully, u can re-run the a.manage_Machine() cell to re-add new machines \n",
    "# then run this cell again for debugging\n",
    "# DEBUGGING: Run dele\n",
    "\n",
    "# Delete all machines in the machine ID list\n",
    "#a.manage_Machine(\"del\",Loc,Type, ID)\n",
    "\n",
    "# Delete all Washers in database\n",
    "#a.manage_Machine(\"del\",\"\",\"Washer\", \"\")\n",
    "\n",
    "# Delete all Dryers in database\n",
    "#a.manage_Machine(\"del\",\"\",\"Dryer\", \"\")\n",
    "\n",
    "# Delete all machines in Block57:\n",
    "#a.manage_Machine(\"del\",\"Block57\",\"\", \"\")\n",
    "\n",
    "# Delete all Dryers in Block57:\n",
    "#a.manage_Machine(\"del\",\"Block57\",\"Dryer\", \"\")\n",
    "\n",
    "#Delete Dryers 01 and 03 in Block57\n",
    "dryer_57_ID = [\"01\",\"03\"]\n",
    "a.manage_Machine(\"del\",\"Block57\",\"Dryer\", dryer_57_ID)\n"
   ]
  },
  {
   "cell_type": "code",
   "execution_count": null,
   "metadata": {},
   "outputs": [],
   "source": []
  }
 ],
 "metadata": {
  "kernelspec": {
   "display_name": "Python 3",
   "language": "python",
   "name": "python3"
  },
  "language_info": {
   "codemirror_mode": {
    "name": "ipython",
    "version": 3
   },
   "file_extension": ".py",
   "mimetype": "text/x-python",
   "name": "python",
   "nbconvert_exporter": "python",
   "pygments_lexer": "ipython3",
   "version": "3.7.3"
  }
 },
 "nbformat": 4,
 "nbformat_minor": 2
}
